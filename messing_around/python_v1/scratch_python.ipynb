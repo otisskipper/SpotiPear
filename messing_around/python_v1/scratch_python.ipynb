{
 "cells": [
  {
   "cell_type": "code",
   "execution_count": 7,
   "metadata": {},
   "outputs": [],
   "source": [
    "import requests"
   ]
  },
  {
   "cell_type": "code",
   "execution_count": 8,
   "metadata": {},
   "outputs": [],
   "source": [
    "access_token = 'Bearer BQA99fE9wtLzQTQEx1qHXsugi7SKUUV2zLM5IJj8iNqaXFWdybHIgAC9k4QEu8Ox2bC8I98LySAQxmGiQ1GPyp4WWN24wM2bvpwpzkhRIQoQRvN-6JyOc720Bg7G1gztImEdJwOyxO_m_jvssc-VdgUVomypkw-aCgTdlZVEFT4mHABmaCqCDMrVQyoyDBwI9qJoRGE9BQQeT2ykotPjFz5yj7OsNCu7ti4eOvZ-LIdmLsQvZIi3CZhMOPYDhoquvqkO8Q'"
   ]
  },
  {
   "cell_type": "code",
   "execution_count": 9,
   "metadata": {},
   "outputs": [],
   "source": [
    "user_id = '22r6slwbns4u7hkhn3hjhjhyi'"
   ]
  },
  {
   "cell_type": "code",
   "execution_count": 10,
   "metadata": {},
   "outputs": [],
   "source": [
    "def get_all_playlists(access_token, user_id):\n",
    "        api_headers = {'Authorization': access_token}\n",
    "        api_url = 'https://api.spotify.com/v1/me/playlists'\n",
    "        api_get_response = requests.get(api_url, headers = api_headers)\n",
    "        all_playlists_json = api_get_response.json()\n",
    "        return all_playlists_json\n"
   ]
  },
  {
   "cell_type": "code",
   "execution_count": 11,
   "metadata": {},
   "outputs": [],
   "source": [
    "all_playlists_json = get_all_playlists(access_token, user_id)"
   ]
  },
  {
   "cell_type": "code",
   "execution_count": 19,
   "metadata": {},
   "outputs": [],
   "source": [
    "all_playlist_names = list()\n",
    "for playlist in all_playlists_json['items']:\n",
    "    all_playlist_names.append(playlist['name'])"
   ]
  },
  {
   "cell_type": "code",
   "execution_count": 20,
   "metadata": {},
   "outputs": [
    {
     "data": {
      "text/plain": [
       "['SpotiPear WebApp Playlist',\n",
       " 'SpotiPear WebApp Playlist',\n",
       " 'SpotiPear WebApp Playlist',\n",
       " 'SpotiPear WebApp Playlist',\n",
       " 'Most Played: This Month',\n",
       " 'Most Played: This Month',\n",
       " 'SpotiPear_Playlist',\n",
       " 'Snowboarding Hype',\n",
       " 'Snowboarding Upbeat',\n",
       " 'Snowboarding Chill',\n",
       " '2019 Jan - May (CO) Sample',\n",
       " '2019 Jan - May (CO) Keep',\n",
       " 'Your Top Songs 2017',\n",
       " 'Your Top Songs 2018',\n",
       " 'Cowboy Bebop',\n",
       " 'Disney',\n",
       " 'Guardians of the Galaxy',\n",
       " 'Hamilton',\n",
       " 'Hamilton Mixtape',\n",
       " 'Kimi No Na Wa']"
      ]
     },
     "execution_count": 20,
     "metadata": {},
     "output_type": "execute_result"
    }
   ],
   "source": [
    "all_playlist_names"
   ]
  },
  {
   "cell_type": "code",
   "execution_count": null,
   "metadata": {},
   "outputs": [],
   "source": []
  }
 ],
 "metadata": {
  "kernelspec": {
   "display_name": "Python 3",
   "language": "python",
   "name": "python3"
  },
  "language_info": {
   "codemirror_mode": {
    "name": "ipython",
    "version": 3
   },
   "file_extension": ".py",
   "mimetype": "text/x-python",
   "name": "python",
   "nbconvert_exporter": "python",
   "pygments_lexer": "ipython3",
   "version": "3.7.0"
  }
 },
 "nbformat": 4,
 "nbformat_minor": 2
}
