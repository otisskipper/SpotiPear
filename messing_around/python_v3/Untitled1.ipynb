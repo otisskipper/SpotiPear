{
 "cells": [
  {
   "cell_type": "code",
   "execution_count": 4,
   "metadata": {},
   "outputs": [],
   "source": [
    "# Rewrite python script, functions and classes to use API calls and not Spotipy"
   ]
  },
  {
   "cell_type": "code",
   "execution_count": null,
   "metadata": {},
   "outputs": [],
   "source": []
  },
  {
   "cell_type": "code",
   "execution_count": null,
   "metadata": {},
   "outputs": [],
   "source": [
    "access_token = 'Bearer BQA99fE9wtLzQTQEx1qHXsugi7SKUUV2zLM5IJj8iNqaXFWdybHIgAC9k4QEu8Ox2bC8I98LySAQxmGiQ1GPyp4WWN24wM2bvpwpzkhRIQoQRvN-6JyOc720Bg7G1gztImEdJwOyxO_m_jvssc-VdgUVomypkw-aCgTdlZVEFT4mHABmaCqCDMrVQyoyDBwI9qJoRGE9BQQeT2ykotPjFz5yj7OsNCu7ti4eOvZ-LIdmLsQvZIi3CZhMOPYDhoquvqkO8Q'"
   ]
  },
  {
   "cell_type": "code",
   "execution_count": 2,
   "metadata": {},
   "outputs": [],
   "source": [
    "user_id = '22r6slwbns4u7hkhn3hjhjhyi'"
   ]
  },
  {
   "cell_type": "code",
   "execution_count": null,
   "metadata": {},
   "outputs": [],
   "source": []
  }
 ],
 "metadata": {
  "kernelspec": {
   "display_name": "Python 3",
   "language": "python",
   "name": "python3"
  },
  "language_info": {
   "codemirror_mode": {
    "name": "ipython",
    "version": 3
   },
   "file_extension": ".py",
   "mimetype": "text/x-python",
   "name": "python",
   "nbconvert_exporter": "python",
   "pygments_lexer": "ipython3",
   "version": "3.7.0"
  }
 },
 "nbformat": 4,
 "nbformat_minor": 2
}
