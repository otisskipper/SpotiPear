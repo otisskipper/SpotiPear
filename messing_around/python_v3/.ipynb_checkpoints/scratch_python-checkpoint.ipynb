{
 "cells": [
  {
   "cell_type": "code",
   "execution_count": 60,
   "metadata": {},
   "outputs": [],
   "source": [
    "import requests\n",
    "import json\n",
    "import spotipy\n"
   ]
  },
  {
   "cell_type": "code",
   "execution_count": 137,
   "metadata": {},
   "outputs": [],
   "source": [
    "%run PearPlaylistClasses.ipynb"
   ]
  },
  {
   "cell_type": "code",
   "execution_count": 147,
   "metadata": {},
   "outputs": [],
   "source": [
    "access_token = 'Bearer BQDE78gbqKmXNBUjVI-HIbVWN7FRH6pGron9WDHiSZ47QRd8IXas2v54F8IXNCHvS51d9jGoRJAEsndL3UCez1tZA6yb4jPK10cWsaBD0Tnk5boiNTfy9pQUkM5oNfv935tkxyFLQJhbuLbIhaBgKC0A3iwQf9Fj1n0KAJrlRTloPs4MQSoLx2yU1a16CMfup82fl_x2uCbH1rQMqaDjRFeXXIaExzj6sEiMOjnVAG7bQWoveQOxhYHnxWuaDLA5l-zODg'"
   ]
  },
  {
   "cell_type": "code",
   "execution_count": 139,
   "metadata": {},
   "outputs": [],
   "source": [
    "p1_name = \"Sgt. Pepper's Lonely Hearts Club Band - Remastered 2009 – The Beatles\""
   ]
  },
  {
   "cell_type": "code",
   "execution_count": 140,
   "metadata": {},
   "outputs": [],
   "source": [
    "p2_name = \"Strangers To Ourselves - Modest Mouse\"\n"
   ]
  },
  {
   "cell_type": "code",
   "execution_count": 84,
   "metadata": {},
   "outputs": [],
   "source": [
    "playlist_names = [p1_name, p2_name]"
   ]
  },
  {
   "cell_type": "code",
   "execution_count": 79,
   "metadata": {},
   "outputs": [],
   "source": [
    "user_id = '22r6slwbns4u7hkhn3hjhjhyi'"
   ]
  },
  {
   "cell_type": "code",
   "execution_count": 80,
   "metadata": {},
   "outputs": [],
   "source": [
    "sp_token = access_token[7:]\n"
   ]
  },
  {
   "cell_type": "code",
   "execution_count": 81,
   "metadata": {},
   "outputs": [],
   "source": [
    "p1_base = Playlist_Base(playlist_name = p1_name, user_id = user_id, access_token = access_token)\n",
    "p2_base = Playlist_Base(playlist_name = p2_name, user_id = user_id, access_token = access_token)"
   ]
  },
  {
   "cell_type": "code",
   "execution_count": 96,
   "metadata": {},
   "outputs": [],
   "source": [
    "\n"
   ]
  },
  {
   "cell_type": "code",
   "execution_count": 111,
   "metadata": {},
   "outputs": [
    {
     "name": "stderr",
     "output_type": "stream",
     "text": [
      "/usr/local/lib/python3.7/site-packages/ipykernel_launcher.py:29: SettingWithCopyWarning: \n",
      "A value is trying to be set on a copy of a slice from a DataFrame.\n",
      "Try using .loc[row_indexer,col_indexer] = value instead\n",
      "\n",
      "See the caveats in the documentation: http://pandas.pydata.org/pandas-docs/stable/indexing.html#indexing-view-versus-copy\n"
     ]
    }
   ],
   "source": []
  },
  {
   "cell_type": "code",
   "execution_count": 116,
   "metadata": {},
   "outputs": [],
   "source": [
    "\n",
    "# Look at each recommended track\n",
    "# Store each track in a df, with each column being the distance to one of the playlists\n",
    "p0_track_ids = playlist_bases[0].orig_playlist_tracks_df['track_id']\n",
    "p1_track_ids = playlist_bases[1].orig_playlist_tracks_df['track_id']\n",
    "\n",
    "\n",
    "\n",
    "\n",
    "# Make 3 lists to insert into data frame - PFI: need a more robust solution for more playlists\n",
    "track_ids = [None]*len(track_distances)\n",
    "p0_dist = [None]*len(track_distances)\n",
    "p1_dist = [None]*len(track_distances)\n",
    "for index, rec_track in track_distances.iterrows():\n",
    "    # The index of each 'rec_track' is every column in the df (aka all original tracks)\n",
    "    # We want to subset this to the specific playlists so that we can determine distance to each playlist\n",
    "    track_ids[index] = rec_track['track_id']\n",
    "    \n",
    "    # the track ids in p0_track_ids should match the columns (aka index) of rec_track\n",
    "    # Only look at those, then get avg dist\n",
    "    p0_track_distances = rec_track[rec_track.index.isin(p0_track_ids)]\n",
    "    p0_dist[index] = p0_track_distances.mean()\n",
    "    \n",
    "    p1_track_distances = rec_track[rec_track.index.isin(p1_track_ids)]\n",
    "    p1_dist[index] = p1_track_distances.mean()\n",
    "\n",
    "cols = ['track_id', 'p0', 'p1']\n",
    "rec_tracks_to_playlists = pd.DataFrame({'track_id' : track_ids, 'p0': p0_dist, 'p1' : p1_dist})\n",
    "rec_tracks_to_playlists['avg_dist'] = rec_tracks_to_playlists.mean(axis = 1)\n",
    "final_tracks = rec_tracks_to_playlists.sort_values(by = ['avg_dist']).iloc[0:20]\n"
   ]
  },
  {
   "cell_type": "code",
   "execution_count": 135,
   "metadata": {},
   "outputs": [
    {
     "name": "stdout",
     "output_type": "stream",
     "text": [
      "201\n"
     ]
    },
    {
     "data": {
      "text/plain": [
       "{'snapshot_id': 'MywzNWIyZWRhZGUwMzg0YTdlNGNiMDQyMDFiMzc2N2Y2NWU4OTg0MzMx'}"
      ]
     },
     "execution_count": 135,
     "metadata": {},
     "output_type": "execute_result"
    }
   ],
   "source": [
    "sp = spotipy.Spotify(auth=access_token[7:])\n",
    "playlist_id = create_playlist(access_token, user_id.encode(), \"SpotiPear_Test\")\n",
    "# Now let's add some tracks\n",
    "track_ids_to_add = final_tracks['track_id']\n",
    "# TODO: Dynamically pull playlistid\n",
    "sp.user_playlist_add_tracks(user_id, playlist_id, track_ids_to_add)"
   ]
  },
  {
   "cell_type": "code",
   "execution_count": 148,
   "metadata": {},
   "outputs": [],
   "source": [
    "def Pear_Playlists(playlist_name_1, playlist_name_2, access_token, user_id):\n",
    "    ### INITIALIZE THINGS\n",
    "    p1_base = Playlist_Base(playlist_name = p1_name, user_id = user_id, access_token = access_token)\n",
    "    p2_base = Playlist_Base(playlist_name = p2_name, user_id = user_id, access_token = access_token)\n",
    "    \n",
    "    playlist_bases = [p1_base, p2_base]\n",
    "    \n",
    "    track_distances = get_track_distances_tmp(playlist_bases)\n",
    "    \n",
    "    \n",
    "    ### FIND TRACKS\n",
    "    # Look at each recommended track\n",
    "    # Store each track in a df, with each column being the distance to one of the playlists\n",
    "    p0_track_ids = playlist_bases[0].orig_playlist_tracks_df['track_id']\n",
    "    p1_track_ids = playlist_bases[1].orig_playlist_tracks_df['track_id']\n",
    "\n",
    "\n",
    "\n",
    "\n",
    "    # Make 3 lists to insert into data frame - PFI: need a more robust solution for more playlists\n",
    "    track_ids = [None]*len(track_distances)\n",
    "    p0_dist = [None]*len(track_distances)\n",
    "    p1_dist = [None]*len(track_distances)\n",
    "    for index, rec_track in track_distances.iterrows():\n",
    "        # The index of each 'rec_track' is every column in the df (aka all original tracks)\n",
    "        # We want to subset this to the specific playlists so that we can determine distance to each playlist\n",
    "        track_ids[index] = rec_track['track_id']\n",
    "\n",
    "        # the track ids in p0_track_ids should match the columns (aka index) of rec_track\n",
    "        # Only look at those, then get avg dist\n",
    "        p0_track_distances = rec_track[rec_track.index.isin(p0_track_ids)]\n",
    "        p0_dist[index] = p0_track_distances.mean()\n",
    "\n",
    "        p1_track_distances = rec_track[rec_track.index.isin(p1_track_ids)]\n",
    "        p1_dist[index] = p1_track_distances.mean()\n",
    "\n",
    "    cols = ['track_id', 'p0', 'p1']\n",
    "    rec_tracks_to_playlists = pd.DataFrame({'track_id' : track_ids, 'p0': p0_dist, 'p1' : p1_dist})\n",
    "    rec_tracks_to_playlists['avg_dist'] = rec_tracks_to_playlists.mean(axis = 1)\n",
    "    final_tracks = rec_tracks_to_playlists.sort_values(by = ['avg_dist']).iloc[0:20]\n",
    "    \n",
    "    ### BUILD PLAYLIST\n",
    "    sp = spotipy.Spotify(auth=access_token[7:])\n",
    "    playlist_id = create_playlist(access_token, user_id.encode(), \"SpotiPear_Test_Playlist\")\n",
    "    # Now let's add some tracks\n",
    "    track_ids_to_add = final_tracks['track_id']\n",
    "    # TODO: Dynamically pull playlistid\n",
    "    sp.user_playlist_add_tracks(user_id, playlist_id, track_ids_to_add)"
   ]
  },
  {
   "cell_type": "code",
   "execution_count": 149,
   "metadata": {},
   "outputs": [
    {
     "name": "stdout",
     "output_type": "stream",
     "text": [
      "Something went wrong hitting spotify API - did you provide the right token and username?\n"
     ]
    },
    {
     "ename": "SpotifyException",
     "evalue": "http status: 401, code:-1 - https://api.spotify.com/v1/users/22r6slwbns4u7hkhn3hjhjhyi/playlists?limit=50&offset=0:\n The access token expired",
     "output_type": "error",
     "traceback": [
      "\u001b[0;31m---------------------------------------------------------------------------\u001b[0m",
      "\u001b[0;31mHTTPError\u001b[0m                                 Traceback (most recent call last)",
      "\u001b[0;32m/usr/local/lib/python3.7/site-packages/spotipy/client.py\u001b[0m in \u001b[0;36m_internal_call\u001b[0;34m(self, method, url, payload, params)\u001b[0m\n\u001b[1;32m    118\u001b[0m         \u001b[0;32mtry\u001b[0m\u001b[0;34m:\u001b[0m\u001b[0;34m\u001b[0m\u001b[0m\n\u001b[0;32m--> 119\u001b[0;31m             \u001b[0mr\u001b[0m\u001b[0;34m.\u001b[0m\u001b[0mraise_for_status\u001b[0m\u001b[0;34m(\u001b[0m\u001b[0;34m)\u001b[0m\u001b[0;34m\u001b[0m\u001b[0m\n\u001b[0m\u001b[1;32m    120\u001b[0m         \u001b[0;32mexcept\u001b[0m\u001b[0;34m:\u001b[0m\u001b[0;34m\u001b[0m\u001b[0m\n",
      "\u001b[0;32m/usr/local/lib/python3.7/site-packages/requests/models.py\u001b[0m in \u001b[0;36mraise_for_status\u001b[0;34m(self)\u001b[0m\n\u001b[1;32m    939\u001b[0m         \u001b[0;32mif\u001b[0m \u001b[0mhttp_error_msg\u001b[0m\u001b[0;34m:\u001b[0m\u001b[0;34m\u001b[0m\u001b[0m\n\u001b[0;32m--> 940\u001b[0;31m             \u001b[0;32mraise\u001b[0m \u001b[0mHTTPError\u001b[0m\u001b[0;34m(\u001b[0m\u001b[0mhttp_error_msg\u001b[0m\u001b[0;34m,\u001b[0m \u001b[0mresponse\u001b[0m\u001b[0;34m=\u001b[0m\u001b[0mself\u001b[0m\u001b[0;34m)\u001b[0m\u001b[0;34m\u001b[0m\u001b[0m\n\u001b[0m\u001b[1;32m    941\u001b[0m \u001b[0;34m\u001b[0m\u001b[0m\n",
      "\u001b[0;31mHTTPError\u001b[0m: 401 Client Error: Unauthorized for url: https://api.spotify.com/v1/users/22r6slwbns4u7hkhn3hjhjhyi/playlists?limit=50&offset=0",
      "\nDuring handling of the above exception, another exception occurred:\n",
      "\u001b[0;31mSpotifyException\u001b[0m                          Traceback (most recent call last)",
      "\u001b[0;32m<ipython-input-149-544ab7204948>\u001b[0m in \u001b[0;36m<module>\u001b[0;34m\u001b[0m\n\u001b[0;32m----> 1\u001b[0;31m \u001b[0mPear_Playlists\u001b[0m\u001b[0;34m(\u001b[0m\u001b[0mp1_name\u001b[0m\u001b[0;34m,\u001b[0m \u001b[0mp2_name\u001b[0m\u001b[0;34m,\u001b[0m \u001b[0maccess_token\u001b[0m\u001b[0;34m,\u001b[0m \u001b[0muser_id\u001b[0m\u001b[0;34m)\u001b[0m\u001b[0;34m\u001b[0m\u001b[0m\n\u001b[0m",
      "\u001b[0;32m<ipython-input-148-2c1df777b300>\u001b[0m in \u001b[0;36mPear_Playlists\u001b[0;34m(playlist_name_1, playlist_name_2, access_token, user_id)\u001b[0m\n\u001b[1;32m      1\u001b[0m \u001b[0;32mdef\u001b[0m \u001b[0mPear_Playlists\u001b[0m\u001b[0;34m(\u001b[0m\u001b[0mplaylist_name_1\u001b[0m\u001b[0;34m,\u001b[0m \u001b[0mplaylist_name_2\u001b[0m\u001b[0;34m,\u001b[0m \u001b[0maccess_token\u001b[0m\u001b[0;34m,\u001b[0m \u001b[0muser_id\u001b[0m\u001b[0;34m)\u001b[0m\u001b[0;34m:\u001b[0m\u001b[0;34m\u001b[0m\u001b[0m\n\u001b[1;32m      2\u001b[0m     \u001b[0;31m### INITIALIZE THINGS\u001b[0m\u001b[0;34m\u001b[0m\u001b[0;34m\u001b[0m\u001b[0m\n\u001b[0;32m----> 3\u001b[0;31m     \u001b[0mp1_base\u001b[0m \u001b[0;34m=\u001b[0m \u001b[0mPlaylist_Base\u001b[0m\u001b[0;34m(\u001b[0m\u001b[0mplaylist_name\u001b[0m \u001b[0;34m=\u001b[0m \u001b[0mp1_name\u001b[0m\u001b[0;34m,\u001b[0m \u001b[0muser_id\u001b[0m \u001b[0;34m=\u001b[0m \u001b[0muser_id\u001b[0m\u001b[0;34m,\u001b[0m \u001b[0maccess_token\u001b[0m \u001b[0;34m=\u001b[0m \u001b[0maccess_token\u001b[0m\u001b[0;34m)\u001b[0m\u001b[0;34m\u001b[0m\u001b[0m\n\u001b[0m\u001b[1;32m      4\u001b[0m     \u001b[0mp2_base\u001b[0m \u001b[0;34m=\u001b[0m \u001b[0mPlaylist_Base\u001b[0m\u001b[0;34m(\u001b[0m\u001b[0mplaylist_name\u001b[0m \u001b[0;34m=\u001b[0m \u001b[0mp2_name\u001b[0m\u001b[0;34m,\u001b[0m \u001b[0muser_id\u001b[0m \u001b[0;34m=\u001b[0m \u001b[0muser_id\u001b[0m\u001b[0;34m,\u001b[0m \u001b[0maccess_token\u001b[0m \u001b[0;34m=\u001b[0m \u001b[0maccess_token\u001b[0m\u001b[0;34m)\u001b[0m\u001b[0;34m\u001b[0m\u001b[0m\n\u001b[1;32m      5\u001b[0m \u001b[0;34m\u001b[0m\u001b[0m\n",
      "\u001b[0;32m<ipython-input-137-f801b301cd94>\u001b[0m in \u001b[0;36m__init__\u001b[0;34m(self, playlist_name, user_id, access_token)\u001b[0m\n\u001b[1;32m     15\u001b[0m             \u001b[0mprint\u001b[0m\u001b[0;34m(\u001b[0m\u001b[0;34m\"Something went wrong hitting spotify API - did you provide the right token and username?\"\u001b[0m\u001b[0;34m)\u001b[0m\u001b[0;34m\u001b[0m\u001b[0m\n\u001b[1;32m     16\u001b[0m         \u001b[0msp\u001b[0m \u001b[0;34m=\u001b[0m \u001b[0mspotipy\u001b[0m\u001b[0;34m.\u001b[0m\u001b[0mSpotify\u001b[0m\u001b[0;34m(\u001b[0m\u001b[0mauth\u001b[0m\u001b[0;34m=\u001b[0m\u001b[0msp_token\u001b[0m\u001b[0;34m)\u001b[0m\u001b[0;34m\u001b[0m\u001b[0m\n\u001b[0;32m---> 17\u001b[0;31m         \u001b[0mall_api_playlists\u001b[0m \u001b[0;34m=\u001b[0m \u001b[0msp\u001b[0m\u001b[0;34m.\u001b[0m\u001b[0muser_playlists\u001b[0m\u001b[0;34m(\u001b[0m\u001b[0muser_id\u001b[0m\u001b[0;34m)\u001b[0m\u001b[0;34m\u001b[0m\u001b[0m\n\u001b[0m\u001b[1;32m     18\u001b[0m \u001b[0;34m\u001b[0m\u001b[0m\n\u001b[1;32m     19\u001b[0m         \u001b[0mself\u001b[0m\u001b[0;34m.\u001b[0m\u001b[0mgenerate_from_playlist_name\u001b[0m\u001b[0;34m(\u001b[0m\u001b[0mplaylist_name\u001b[0m\u001b[0;34m)\u001b[0m\u001b[0;34m\u001b[0m\u001b[0m\n",
      "\u001b[0;32m/usr/local/lib/python3.7/site-packages/spotipy/client.py\u001b[0m in \u001b[0;36muser_playlists\u001b[0;34m(self, user, limit, offset)\u001b[0m\n\u001b[1;32m    364\u001b[0m         '''\n\u001b[1;32m    365\u001b[0m         return self._get(\"users/%s/playlists\" % user, limit=limit,\n\u001b[0;32m--> 366\u001b[0;31m                          offset=offset)\n\u001b[0m\u001b[1;32m    367\u001b[0m \u001b[0;34m\u001b[0m\u001b[0m\n\u001b[1;32m    368\u001b[0m     \u001b[0;32mdef\u001b[0m \u001b[0muser_playlist\u001b[0m\u001b[0;34m(\u001b[0m\u001b[0mself\u001b[0m\u001b[0;34m,\u001b[0m \u001b[0muser\u001b[0m\u001b[0;34m,\u001b[0m \u001b[0mplaylist_id\u001b[0m\u001b[0;34m=\u001b[0m\u001b[0;32mNone\u001b[0m\u001b[0;34m,\u001b[0m \u001b[0mfields\u001b[0m\u001b[0;34m=\u001b[0m\u001b[0;32mNone\u001b[0m\u001b[0;34m)\u001b[0m\u001b[0;34m:\u001b[0m\u001b[0;34m\u001b[0m\u001b[0m\n",
      "\u001b[0;32m/usr/local/lib/python3.7/site-packages/spotipy/client.py\u001b[0m in \u001b[0;36m_get\u001b[0;34m(self, url, args, payload, **kwargs)\u001b[0m\n\u001b[1;32m    144\u001b[0m         \u001b[0;32mwhile\u001b[0m \u001b[0mretries\u001b[0m \u001b[0;34m>\u001b[0m \u001b[0;36m0\u001b[0m\u001b[0;34m:\u001b[0m\u001b[0;34m\u001b[0m\u001b[0m\n\u001b[1;32m    145\u001b[0m             \u001b[0;32mtry\u001b[0m\u001b[0;34m:\u001b[0m\u001b[0;34m\u001b[0m\u001b[0m\n\u001b[0;32m--> 146\u001b[0;31m                 \u001b[0;32mreturn\u001b[0m \u001b[0mself\u001b[0m\u001b[0;34m.\u001b[0m\u001b[0m_internal_call\u001b[0m\u001b[0;34m(\u001b[0m\u001b[0;34m'GET'\u001b[0m\u001b[0;34m,\u001b[0m \u001b[0murl\u001b[0m\u001b[0;34m,\u001b[0m \u001b[0mpayload\u001b[0m\u001b[0;34m,\u001b[0m \u001b[0mkwargs\u001b[0m\u001b[0;34m)\u001b[0m\u001b[0;34m\u001b[0m\u001b[0m\n\u001b[0m\u001b[1;32m    147\u001b[0m             \u001b[0;32mexcept\u001b[0m \u001b[0mSpotifyException\u001b[0m \u001b[0;32mas\u001b[0m \u001b[0me\u001b[0m\u001b[0;34m:\u001b[0m\u001b[0;34m\u001b[0m\u001b[0m\n\u001b[1;32m    148\u001b[0m                 \u001b[0mretries\u001b[0m \u001b[0;34m-=\u001b[0m \u001b[0;36m1\u001b[0m\u001b[0;34m\u001b[0m\u001b[0m\n",
      "\u001b[0;32m/usr/local/lib/python3.7/site-packages/spotipy/client.py\u001b[0m in \u001b[0;36m_internal_call\u001b[0;34m(self, method, url, payload, params)\u001b[0m\n\u001b[1;32m    122\u001b[0m                 raise SpotifyException(r.status_code,\n\u001b[1;32m    123\u001b[0m                     \u001b[0;34m-\u001b[0m\u001b[0;36m1\u001b[0m\u001b[0;34m,\u001b[0m \u001b[0;34m'%s:\\n %s'\u001b[0m \u001b[0;34m%\u001b[0m \u001b[0;34m(\u001b[0m\u001b[0mr\u001b[0m\u001b[0;34m.\u001b[0m\u001b[0murl\u001b[0m\u001b[0;34m,\u001b[0m \u001b[0mr\u001b[0m\u001b[0;34m.\u001b[0m\u001b[0mjson\u001b[0m\u001b[0;34m(\u001b[0m\u001b[0;34m)\u001b[0m\u001b[0;34m[\u001b[0m\u001b[0;34m'error'\u001b[0m\u001b[0;34m]\u001b[0m\u001b[0;34m[\u001b[0m\u001b[0;34m'message'\u001b[0m\u001b[0;34m]\u001b[0m\u001b[0;34m)\u001b[0m\u001b[0;34m,\u001b[0m\u001b[0;34m\u001b[0m\u001b[0m\n\u001b[0;32m--> 124\u001b[0;31m                     headers=r.headers)\n\u001b[0m\u001b[1;32m    125\u001b[0m             \u001b[0;32melse\u001b[0m\u001b[0;34m:\u001b[0m\u001b[0;34m\u001b[0m\u001b[0m\n\u001b[1;32m    126\u001b[0m                 raise SpotifyException(r.status_code,\n",
      "\u001b[0;31mSpotifyException\u001b[0m: http status: 401, code:-1 - https://api.spotify.com/v1/users/22r6slwbns4u7hkhn3hjhjhyi/playlists?limit=50&offset=0:\n The access token expired"
     ]
    }
   ],
   "source": [
    "Pear_Playlists(p1_name, p2_name, access_token, user_id)"
   ]
  },
  {
   "cell_type": "code",
   "execution_count": null,
   "metadata": {},
   "outputs": [],
   "source": []
  }
 ],
 "metadata": {
  "kernelspec": {
   "display_name": "Python 3",
   "language": "python",
   "name": "python3"
  },
  "language_info": {
   "codemirror_mode": {
    "name": "ipython",
    "version": 3
   },
   "file_extension": ".py",
   "mimetype": "text/x-python",
   "name": "python",
   "nbconvert_exporter": "python",
   "pygments_lexer": "ipython3",
   "version": "3.7.0"
  }
 },
 "nbformat": 4,
 "nbformat_minor": 2
}
