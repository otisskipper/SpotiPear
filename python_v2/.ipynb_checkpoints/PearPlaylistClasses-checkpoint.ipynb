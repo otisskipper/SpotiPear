{
 "cells": [
  {
   "cell_type": "code",
   "execution_count": 42,
   "metadata": {},
   "outputs": [],
   "source": [
    "# Want an object that encapsulates our API pull of tracks and subsequent API pull of recommendations and features\n",
    "# Playlist_Base Class\n",
    "# Has:\n",
    "# MUST BE SPECIFIED AT CREATE TIME\n",
    "# username - spotify username\n",
    "# toke - auth toeken from user logging in\n",
    "# CAN BE SPECIFIED LATER\n",
    "# playlist_name\n",
    "\n",
    "# From that generate:\n",
    "# orig_playlist_dict\n",
    "# orig_playlist_df\n",
    "# playlist_rec_something? (am I storing this as a list or dict)\n",
    "# playlist_rec_df\n",
    "\n"
   ]
  },
  {
   "cell_type": "code",
   "execution_count": 52,
   "metadata": {},
   "outputs": [],
   "source": [
    "# Functions and Organization is important\n",
    "# Will want some of these functions when initializing a Playlist_Base\n",
    "%run PearPlaylistFunctions.ipynb"
   ]
  },
  {
   "cell_type": "code",
   "execution_count": 1,
   "metadata": {},
   "outputs": [],
   "source": [
    "\n",
    "class Playlist_Base():\n",
    "    def __init__(self, playlist_name = '', user_id = '', access_token = ''):\n",
    "        self.playlist_name = playlist_name\n",
    "        self.user_id = user_id\n",
    "        self.access_token = access_token\n",
    "        # Access_token from spotify_api has 'Bearer ' in front\n",
    "        # Spotipy token built on not having Bearer, so ditch that\n",
    "        self.sp_token = access_token[7:]\n",
    "        try:\n",
    "            sp = spotipy.Spotify(auth=self.sp_token)\n",
    "            all_api_playlists = sp.user_playlists(user_id)\n",
    "            self.spotipy_connection = sp\n",
    "        except:\n",
    "            print(\"Something went wrong hitting spotify API - did you provide the right token and username?\")\n",
    "        sp = spotipy.Spotify(auth=self.sp_token)\n",
    "        all_api_playlists = sp.user_playlists(user_id)\n",
    "        \n",
    "        self.generate_from_playlist_name(playlist_name)\n",
    "        \n",
    "    \n",
    "    # takes a playlist_name and populates all other relevant variables of object\n",
    "    # If a new playlist name is passed, it will overwrite all values\n",
    "    def generate_from_playlist_name(self, playlist_name):\n",
    "        self.playlist_name = playlist_name\n",
    "        # Get all user's playlists from API PSI: Maybe there's a function that lets you hit API with playlist_name?\n",
    "        sp = spotipy.Spotify(auth=self.sp_token)\n",
    "        all_api_playlists = sp.user_playlists(user_id)\n",
    "        \n",
    "        for api_playlist in all_api_playlists['items']:\n",
    "            if(api_playlist['name'] == playlist_name):\n",
    "                self.orig_playlist_dict = api_playlist\n",
    "        \n",
    "        # Now have the original playlist\n",
    "        \n",
    "        #TODO: Get features of this playlist, then build rec playlist then get features of that\n",
    "        \n",
    "        ### GET FEATURES OF ORIGINAL PLAYLIST\n",
    "        orig_playlist_tracks_tmp = get_tracks_from_playlist(self.user_id, self.orig_playlist_dict, self.spotipy_connection)\n",
    "        self.orig_playlist_tracks_df = get_track_features(orig_playlist_tracks_tmp, self.spotipy_connection)\n",
    "\n",
    "        #self.track_features = get_track_features(track_df, playlist_name):\n",
    "        ### CREATE RECS FROM PLAYLIST -- PFI: could make this function much more robust, look at artist/genre too\n",
    "        # Get recommended tracks as dict\n",
    "        rec_tracks_tmp = get_similar_tracks_from_playlist(self.user_id, self.orig_playlist_dict, self.spotipy_connection)\n",
    "        self.rec_tracks_df = get_track_features(rec_tracks_tmp, self.spotipy_connection)\n",
    "        \n",
    "        ### GET FEATURES OF REC PLAYLIST -- PSI: make get_features function faster\n",
    "        \n",
    "        \n",
    "        \n",
    "    def print_playlist_name(self):\n",
    "        print(self.playlist_name)"
   ]
  },
  {
   "cell_type": "code",
   "execution_count": null,
   "metadata": {},
   "outputs": [],
   "source": []
  }
 ],
 "metadata": {
  "kernelspec": {
   "display_name": "Python 3",
   "language": "python",
   "name": "python3"
  },
  "language_info": {
   "codemirror_mode": {
    "name": "ipython",
    "version": 3
   },
   "file_extension": ".py",
   "mimetype": "text/x-python",
   "name": "python",
   "nbconvert_exporter": "python",
   "pygments_lexer": "ipython3",
   "version": "3.7.0"
  }
 },
 "nbformat": 4,
 "nbformat_minor": 2
}
